{
 "cells": [
  {
   "cell_type": "markdown",
   "id": "7f6765c3",
   "metadata": {},
   "source": [
    "# 2. На основі обраного або власного набору даних виконати наступні кроки. "
   ]
  },
  {
   "cell_type": "markdown",
   "id": "d008d332",
   "metadata": {},
   "source": [
    "- Підготовка даних: завантажити або створити датасет з категоріальними \n",
    "змінними (від 5 до 10 атрибутів); виконати необхідне попереднє \n",
    "опрацювання: заміна пропущених значень, дискретизація числових змінних, \n",
    "перекодування. "
   ]
  },
  {
   "cell_type": "code",
   "execution_count": 1,
   "id": "1a3eabbc",
   "metadata": {},
   "outputs": [],
   "source": [
    "import pandas as pd"
   ]
  },
  {
   "cell_type": "code",
   "execution_count": 3,
   "id": "675856ed",
   "metadata": {},
   "outputs": [],
   "source": [
    "ds = pd.read_csv(\"../data/plant_growth_data.csv\")"
   ]
  },
  {
   "cell_type": "code",
   "execution_count": 4,
   "id": "28171c59",
   "metadata": {},
   "outputs": [
    {
     "data": {
      "text/html": [
       "<div>\n",
       "<style scoped>\n",
       "    .dataframe tbody tr th:only-of-type {\n",
       "        vertical-align: middle;\n",
       "    }\n",
       "\n",
       "    .dataframe tbody tr th {\n",
       "        vertical-align: top;\n",
       "    }\n",
       "\n",
       "    .dataframe thead th {\n",
       "        text-align: right;\n",
       "    }\n",
       "</style>\n",
       "<table border=\"1\" class=\"dataframe\">\n",
       "  <thead>\n",
       "    <tr style=\"text-align: right;\">\n",
       "      <th></th>\n",
       "      <th>Soil_Type</th>\n",
       "      <th>Sunlight_Hours</th>\n",
       "      <th>Water_Frequency</th>\n",
       "      <th>Fertilizer_Type</th>\n",
       "      <th>Temperature</th>\n",
       "      <th>Humidity</th>\n",
       "      <th>Growth_Milestone</th>\n",
       "    </tr>\n",
       "  </thead>\n",
       "  <tbody>\n",
       "    <tr>\n",
       "      <th>100</th>\n",
       "      <td>sandy</td>\n",
       "      <td>8.000000</td>\n",
       "      <td>daily</td>\n",
       "      <td>organic</td>\n",
       "      <td>25.000000</td>\n",
       "      <td>60.000000</td>\n",
       "      <td>1</td>\n",
       "    </tr>\n",
       "    <tr>\n",
       "      <th>44</th>\n",
       "      <td>sandy</td>\n",
       "      <td>9.228764</td>\n",
       "      <td>daily</td>\n",
       "      <td>none</td>\n",
       "      <td>33.804605</td>\n",
       "      <td>32.815164</td>\n",
       "      <td>0</td>\n",
       "    </tr>\n",
       "    <tr>\n",
       "      <th>25</th>\n",
       "      <td>sandy</td>\n",
       "      <td>7.136397</td>\n",
       "      <td>daily</td>\n",
       "      <td>none</td>\n",
       "      <td>16.956683</td>\n",
       "      <td>34.067439</td>\n",
       "      <td>0</td>\n",
       "    </tr>\n",
       "    <tr>\n",
       "      <th>145</th>\n",
       "      <td>loam</td>\n",
       "      <td>6.762000</td>\n",
       "      <td>daily</td>\n",
       "      <td>organic</td>\n",
       "      <td>22.900000</td>\n",
       "      <td>46.500000</td>\n",
       "      <td>1</td>\n",
       "    </tr>\n",
       "  </tbody>\n",
       "</table>\n",
       "</div>"
      ],
      "text/plain": [
       "    Soil_Type  Sunlight_Hours Water_Frequency Fertilizer_Type  Temperature   \n",
       "100     sandy        8.000000           daily         organic    25.000000  \\\n",
       "44      sandy        9.228764           daily            none    33.804605   \n",
       "25      sandy        7.136397           daily            none    16.956683   \n",
       "145      loam        6.762000           daily         organic    22.900000   \n",
       "\n",
       "      Humidity  Growth_Milestone  \n",
       "100  60.000000                 1  \n",
       "44   32.815164                 0  \n",
       "25   34.067439                 0  \n",
       "145  46.500000                 1  "
      ]
     },
     "execution_count": 4,
     "metadata": {},
     "output_type": "execute_result"
    }
   ],
   "source": [
    "ds.sample(4)"
   ]
  },
  {
   "cell_type": "markdown",
   "id": "fef5f288",
   "metadata": {},
   "source": [
    "Here about the description of the columns\n",
    "1. Soil_Type: The type or composition of soil in which the plants are grown.\n",
    "2. Sunlight_Hours: The duration or intensity of sunlight exposure received by the plants.\n",
    "3. Water_Frequency: How often the plants are watered, indicating the watering schedule.\n",
    "4. Fertilizer_Type: The type of fertilizer used for nourishing the plants.\n",
    "5. Temperature: The ambient temperature conditions under which the plants are grown.\n",
    "6. Humidity: The level of moisture or humidity in the environment surrounding the plants.\n",
    "7. Growth_Milestone: Descriptions or markers indicating stages or significant events in the growth process of the plants."
   ]
  },
  {
   "cell_type": "code",
   "execution_count": 5,
   "id": "df2fddd9",
   "metadata": {},
   "outputs": [
    {
     "name": "stdout",
     "output_type": "stream",
     "text": [
      "<class 'pandas.core.frame.DataFrame'>\n",
      "RangeIndex: 193 entries, 0 to 192\n",
      "Data columns (total 7 columns):\n",
      " #   Column            Non-Null Count  Dtype  \n",
      "---  ------            --------------  -----  \n",
      " 0   Soil_Type         193 non-null    object \n",
      " 1   Sunlight_Hours    193 non-null    float64\n",
      " 2   Water_Frequency   193 non-null    object \n",
      " 3   Fertilizer_Type   193 non-null    object \n",
      " 4   Temperature       193 non-null    float64\n",
      " 5   Humidity          193 non-null    float64\n",
      " 6   Growth_Milestone  193 non-null    int64  \n",
      "dtypes: float64(3), int64(1), object(3)\n",
      "memory usage: 10.7+ KB\n"
     ]
    }
   ],
   "source": [
    "ds.info()"
   ]
  },
  {
   "cell_type": "code",
   "execution_count": 6,
   "id": "3034a153",
   "metadata": {},
   "outputs": [
    {
     "name": "stdout",
     "output_type": "stream",
     "text": [
      "Soil_Type\n",
      "clay     67\n",
      "sandy    64\n",
      "loam     62\n",
      "Name: count, dtype: int64\n",
      "\n",
      "Water_Frequency\n",
      "daily        74\n",
      "bi-weekly    60\n",
      "weekly       59\n",
      "Name: count, dtype: int64\n",
      "\n",
      "Fertilizer_Type\n",
      "none        74\n",
      "chemical    65\n",
      "organic     54\n",
      "Name: count, dtype: int64\n",
      "\n"
     ]
    }
   ],
   "source": [
    "cat_cols = [\"Soil_Type\", \"Water_Frequency\", \"Fertilizer_Type\"]\n",
    "for col in cat_cols:\n",
    "    print(ds[col].value_counts())\n",
    "    print()"
   ]
  },
  {
   "cell_type": "markdown",
   "id": "6b909386",
   "metadata": {},
   "source": [
    "- Визначення структури мережі: побудувати граф структури мережі, який \n",
    "задає зв'язки між змінними (BayesianModel([...])); аргументувати вибір \n",
    "напрямків між вузлами (на основі знань про предметну область або \n",
    "припущень). "
   ]
  },
  {
   "cell_type": "markdown",
   "id": "5cb04d1b",
   "metadata": {},
   "source": [
    "- Параметричне навчання: навчити параметри моделі на основі датасету за \n",
    "допомогою BayesianEstimator або MaximumLikelihoodEstimator. "
   ]
  },
  {
   "cell_type": "markdown",
   "id": "1230e54a",
   "metadata": {},
   "source": [
    "- Виконання інференсу: реалізувати обчислення умовної ймовірності для \n",
    "цільової змінної з урахуванням заданого evidence, використовуючи \n",
    "VariableElimination або BeliefPropagation. "
   ]
  }
 ],
 "metadata": {
  "kernelspec": {
   "display_name": "Python 3",
   "language": "python",
   "name": "python3"
  },
  "language_info": {
   "codemirror_mode": {
    "name": "ipython",
    "version": 3
   },
   "file_extension": ".py",
   "mimetype": "text/x-python",
   "name": "python",
   "nbconvert_exporter": "python",
   "pygments_lexer": "ipython3",
   "version": "3.11.3"
  }
 },
 "nbformat": 4,
 "nbformat_minor": 5
}
