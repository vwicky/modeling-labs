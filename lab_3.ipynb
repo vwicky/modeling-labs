{
 "cells": [
  {
   "cell_type": "markdown",
   "metadata": {},
   "source": [
    "# lab - 3"
   ]
  },
  {
   "cell_type": "markdown",
   "metadata": {},
   "source": [
    "тут була помилка - див. lab_3_2"
   ]
  },
  {
   "cell_type": "code",
   "execution_count": 1,
   "metadata": {},
   "outputs": [],
   "source": [
    "import numpy as np\n",
    "import matplotlib.pyplot as plt"
   ]
  },
  {
   "cell_type": "code",
   "execution_count": 41,
   "metadata": {},
   "outputs": [],
   "source": [
    "# Вихідні дані (Ваш варіант 7: Алюміній)\n",
    "a = 84.18e-6  # м²/с\n",
    "L = 0.02      # м\n",
    "T_total = 0.1 * 3600  # год -> сек\n",
    "N = 100\n",
    "h = 0.0075    # Попередній нестабільний, перевіримо\n",
    "dx = L / (N + 1)  # Просторовий крок"
   ]
  },
  {
   "cell_type": "code",
   "execution_count": 51,
   "metadata": {},
   "outputs": [],
   "source": [
    "# Максимальний стабільний крок часу\n",
    "h_max = dx**2 / (2 * a)\n",
    "h = 10 * h_max  # Збільшено до 99%"
   ]
  },
  {
   "cell_type": "code",
   "execution_count": 52,
   "metadata": {},
   "outputs": [
    {
     "name": "stdout",
     "output_type": "stream",
     "text": [
      "Обраний часовий крок: h=2.32905e-03 с\n",
      "Загальна кількість кроків: 154569\n"
     ]
    }
   ],
   "source": [
    "# Оцінка кількості кроків\n",
    "time_steps = int(T_total / h)\n",
    "print(f\"Обраний часовий крок: h={h:.5e} с\")\n",
    "print(f\"Загальна кількість кроків: {time_steps}\")"
   ]
  },
  {
   "cell_type": "code",
   "execution_count": 53,
   "metadata": {},
   "outputs": [],
   "source": [
    "# Початковий розподіл температури\n",
    "T = np.zeros(N+2)\n",
    "T[0] = 7\n",
    "T[-1] = 26"
   ]
  },
  {
   "cell_type": "code",
   "execution_count": 54,
   "metadata": {},
   "outputs": [],
   "source": [
    "# Функція рівняння теплопровідності\n",
    "def heat_equation(t, T):\n",
    "  dTdt = np.zeros_like(T)\n",
    "  for i in range(1, N+1):\n",
    "    dTdt[i] = a * (T[i+1] - 2*T[i] + T[i-1]) / dx**2\n",
    "  return dTdt"
   ]
  },
  {
   "cell_type": "code",
   "execution_count": 55,
   "metadata": {},
   "outputs": [],
   "source": [
    "# Метод Рунге-Кутта 4-го порядку\n",
    "def runge_kutta(T, h, T_total):\n",
    "  t = 0\n",
    "  time_steps = int(T_total / h)\n",
    "  results = [T.copy()]\n",
    "  \n",
    "  for step in range(time_steps):\n",
    "    k1 = h * heat_equation(t, T)\n",
    "    k2 = h * heat_equation(t + h/2, T + k1/2)\n",
    "    k3 = h * heat_equation(t + h/2, T + k2/2)\n",
    "    k4 = h * heat_equation(t + h, T + k3)\n",
    "    \n",
    "    T += (k1 + 2*k2 + 2*k3 + k4) / 6\n",
    "    results.append(T.copy())\n",
    "\n",
    "    t += h\n",
    "\n",
    "  return np.array(results)"
   ]
  },
  {
   "cell_type": "code",
   "execution_count": null,
   "metadata": {},
   "outputs": [
    {
     "name": "stderr",
     "output_type": "stream",
     "text": [
      "C:\\Users\\Omen\\AppData\\Local\\Temp\\ipykernel_22232\\2431265413.py:5: RuntimeWarning: overflow encountered in double_scalars\n",
      "  dTdt[i] = a * (T[i+1] - 2*T[i] + T[i-1]) / dx**2\n",
      "C:\\Users\\Omen\\AppData\\Local\\Temp\\ipykernel_22232\\3200422627.py:9: RuntimeWarning: invalid value encountered in add\n",
      "  k2 = h * heat_equation(t + h/2, T + k1/2)\n",
      "C:\\Users\\Omen\\AppData\\Local\\Temp\\ipykernel_22232\\3200422627.py:13: RuntimeWarning: invalid value encountered in add\n",
      "  T += (k1 + 2*k2 + 2*k3 + k4) / 6\n",
      "C:\\Users\\Omen\\AppData\\Local\\Temp\\ipykernel_22232\\2431265413.py:5: RuntimeWarning: invalid value encountered in double_scalars\n",
      "  dTdt[i] = a * (T[i+1] - 2*T[i] + T[i-1]) / dx**2\n"
     ]
    }
   ],
   "source": [
    "T_results = runge_kutta(T, h, T_total)"
   ]
  },
  {
   "cell_type": "code",
   "execution_count": 59,
   "metadata": {},
   "outputs": [
    {
     "data": {
      "text/plain": [
       "array([ 7.,  0.,  0.,  0.,  0.,  0.,  0.,  0.,  0.,  0.,  0.,  0.,  0.,\n",
       "        0.,  0.,  0.,  0.,  0.,  0.,  0.,  0.,  0.,  0.,  0.,  0.,  0.,\n",
       "        0.,  0.,  0.,  0.,  0.,  0.,  0.,  0.,  0.,  0.,  0.,  0.,  0.,\n",
       "        0.,  0.,  0.,  0.,  0.,  0.,  0.,  0.,  0.,  0.,  0.,  0.,  0.,\n",
       "        0.,  0.,  0.,  0.,  0.,  0.,  0.,  0.,  0.,  0.,  0.,  0.,  0.,\n",
       "        0.,  0.,  0.,  0.,  0.,  0.,  0.,  0.,  0.,  0.,  0.,  0.,  0.,\n",
       "        0.,  0.,  0.,  0.,  0.,  0.,  0.,  0.,  0.,  0.,  0.,  0.,  0.,\n",
       "        0.,  0.,  0.,  0.,  0.,  0.,  0.,  0.,  0.,  0., 26.])"
      ]
     },
     "execution_count": 59,
     "metadata": {},
     "output_type": "execute_result"
    }
   ],
   "source": [
    "T_results[0]"
   ]
  },
  {
   "cell_type": "code",
   "execution_count": 57,
   "metadata": {},
   "outputs": [
    {
     "data": {
      "image/png": "[encoded data removed]",
      "text/plain": [
       "<Figure size 800x500 with 1 Axes>"
      ]
     },
     "metadata": {},
     "output_type": "display_data"
    }
   ],
   "source": [
    "# Візуалізація\n",
    "plt.figure(figsize=(8,5))\n",
    "for i in range(0, len(T_results), len(T_results)//5):\n",
    "  plt.plot(np.linspace(0, L, N+2), T_results[i], label=f't={i*h:.2f} s')\n",
    "plt.xlabel('Координата (м)')\n",
    "plt.ylabel('Температура (°C)')\n",
    "plt.legend()\n",
    "plt.grid()\n",
    "plt.show()"
   ]
  }
 ],
 "metadata": {
  "kernelspec": {
   "display_name": "Python 3",
   "language": "python",
   "name": "python3"
  },
  "language_info": {
   "codemirror_mode": {
    "name": "ipython",
    "version": 3
   },
   "file_extension": ".py",
   "mimetype": "text/x-python",
   "name": "python",
   "nbconvert_exporter": "python",
   "pygments_lexer": "ipython3",
   "version": "3.11.3"
  }
 },
 "nbformat": 4,
 "nbformat_minor": 2
}
